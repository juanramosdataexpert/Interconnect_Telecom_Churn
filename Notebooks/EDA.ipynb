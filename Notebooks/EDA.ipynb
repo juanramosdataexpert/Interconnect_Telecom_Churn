{
 "cells": [
  {
   "cell_type": "markdown",
   "metadata": {},
   "source": [
    "# <span style=\"color:#0F19C9\">Contenido</span>\n",
    "\n",
    "- [Importar librerías y datos](#importar-librerías-y-datos)\n",
    "- [Dataframe contract](#dataframe-contract)\n",
    "- [Dataframe personal](#dataframe-personal)\n",
    "- [Dataframe internet](#dataframe-internet)\n",
    "- [Dataframe phone](#dataframe-phone)"
   ]
  },
  {
   "cell_type": "markdown",
   "metadata": {},
   "source": [
    "# <span style=\"color:#0F19C9\">Importar librerías y datos</span>\n",
    "\n",
    "Comenzaremos por importar librerías de manipulación de dataframes, para la realización de pruebas estadísticas y matplotlib para la visualización de datos."
   ]
  },
  {
   "cell_type": "code",
   "execution_count": 2,
   "metadata": {},
   "outputs": [],
   "source": [
    "# Librerías de manejo de dataframes\n",
    "import pandas as pd\n",
    "import numpy as np\n",
    "from scipy import stats\n",
    "\n",
    "# Librerías de visualización\n",
    "import matplotlib.pyplot as plt\n",
    "from matplotlib.colors import LinearSegmentedColormap"
   ]
  },
  {
   "cell_type": "code",
   "execution_count": 3,
   "metadata": {},
   "outputs": [],
   "source": [
    "# Importar paletas de colores personalizada\n",
    "juan_colors = ['#101B4B', '#545E85', '#A3A8B2',\n",
    "               '#E7E7E7', '#0F19C9', '#F6D673']\n",
    "colors = [juan_colors[5], juan_colors[0]]\n",
    "juan_cmap = LinearSegmentedColormap.from_list(\"custom_cmap\", colors)\n",
    "\n",
    "# Configurar la fuente de los gráficos\n",
    "plt.rc('font', family='Georgia', size=12)"
   ]
  },
  {
   "cell_type": "code",
   "execution_count": 21,
   "metadata": {},
   "outputs": [],
   "source": [
    "# Importar archivos csv\n",
    "contract = pd.read_csv('../Data/contract.csv')\n",
    "internet = pd.read_csv('../Data/internet.csv')\n",
    "personal = pd.read_csv('../Data/personal.csv')\n",
    "phone = pd.read_csv('../Data/phone.csv')\n",
    "\n",
    "# Organizar dataframes en un diccionario\n",
    "dfs = {'contract': contract, \n",
    "       'internet': internet,\n",
    "       'personal': personal,\n",
    "       'phone': phone}"
   ]
  },
  {
   "cell_type": "markdown",
   "metadata": {},
   "source": [
    "# <span style=\"color:#0F19C9\">Exploración inicial</span>\n",
    "\n",
    "Comenzamos evaluando la calidad general de cada uno de los dataframes."
   ]
  },
  {
   "cell_type": "code",
   "execution_count": 28,
   "metadata": {},
   "outputs": [
    {
     "name": "stdout",
     "output_type": "stream",
     "text": [
      "Dataframe contract\n",
      "<class 'pandas.core.frame.DataFrame'>\n",
      "RangeIndex: 7043 entries, 0 to 7042\n",
      "Data columns (total 8 columns):\n",
      " #   Column            Non-Null Count  Dtype  \n",
      "---  ------            --------------  -----  \n",
      " 0   customerID        7043 non-null   object \n",
      " 1   BeginDate         7043 non-null   object \n",
      " 2   EndDate           7043 non-null   object \n",
      " 3   Type              7043 non-null   object \n",
      " 4   PaperlessBilling  7043 non-null   object \n",
      " 5   PaymentMethod     7043 non-null   object \n",
      " 6   MonthlyCharges    7043 non-null   float64\n",
      " 7   TotalCharges      7043 non-null   object \n",
      "dtypes: float64(1), object(7)\n",
      "memory usage: 440.3+ KB\n",
      "---------\n",
      "\n",
      "Dataframe internet\n",
      "<class 'pandas.core.frame.DataFrame'>\n",
      "RangeIndex: 5517 entries, 0 to 5516\n",
      "Data columns (total 8 columns):\n",
      " #   Column            Non-Null Count  Dtype \n",
      "---  ------            --------------  ----- \n",
      " 0   customerID        5517 non-null   object\n",
      " 1   InternetService   5517 non-null   object\n",
      " 2   OnlineSecurity    5517 non-null   object\n",
      " 3   OnlineBackup      5517 non-null   object\n",
      " 4   DeviceProtection  5517 non-null   object\n",
      " 5   TechSupport       5517 non-null   object\n",
      " 6   StreamingTV       5517 non-null   object\n",
      " 7   StreamingMovies   5517 non-null   object\n",
      "dtypes: object(8)\n",
      "memory usage: 344.9+ KB\n",
      "---------\n",
      "\n",
      "Dataframe personal\n",
      "<class 'pandas.core.frame.DataFrame'>\n",
      "RangeIndex: 7043 entries, 0 to 7042\n",
      "Data columns (total 5 columns):\n",
      " #   Column         Non-Null Count  Dtype \n",
      "---  ------         --------------  ----- \n",
      " 0   customerID     7043 non-null   object\n",
      " 1   gender         7043 non-null   object\n",
      " 2   SeniorCitizen  7043 non-null   int64 \n",
      " 3   Partner        7043 non-null   object\n",
      " 4   Dependents     7043 non-null   object\n",
      "dtypes: int64(1), object(4)\n",
      "memory usage: 275.2+ KB\n",
      "---------\n",
      "\n",
      "Dataframe phone\n",
      "<class 'pandas.core.frame.DataFrame'>\n",
      "RangeIndex: 6361 entries, 0 to 6360\n",
      "Data columns (total 2 columns):\n",
      " #   Column         Non-Null Count  Dtype \n",
      "---  ------         --------------  ----- \n",
      " 0   customerID     6361 non-null   object\n",
      " 1   MultipleLines  6361 non-null   object\n",
      "dtypes: object(2)\n",
      "memory usage: 99.5+ KB\n",
      "---------\n",
      "\n"
     ]
    }
   ],
   "source": [
    "# Mostrar la información general de los dataframes\n",
    "for name, df in dfs.items():\n",
    "    print(f'Dataframe {name}')\n",
    "    df.info()\n",
    "    print('---------\\n')"
   ]
  },
  {
   "cell_type": "code",
   "execution_count": 29,
   "metadata": {},
   "outputs": [
    {
     "name": "stdout",
     "output_type": "stream",
     "text": [
      "El dataframe contract tiene 0 registros duplicados y 0 valores nulos.\n",
      "El dataframe internet tiene 0 registros duplicados y 0 valores nulos.\n",
      "El dataframe personal tiene 0 registros duplicados y 0 valores nulos.\n",
      "El dataframe phone tiene 0 registros duplicados y 0 valores nulos.\n"
     ]
    }
   ],
   "source": [
    "# Mostrar valores nulos y duplicados\n",
    "for name, df in dfs.items():\n",
    "    print(f'El dataframe {name} tiene {df.duplicated().sum()} registros duplicados y {df.isna().sum().sum()} valores nulos.')"
   ]
  },
  {
   "cell_type": "code",
   "execution_count": 31,
   "metadata": {},
   "outputs": [
    {
     "name": "stdout",
     "output_type": "stream",
     "text": [
      "Las columnas del dataframe contract son ['customerID', 'BeginDate', 'EndDate', 'Type', 'PaperlessBilling', 'PaymentMethod', 'MonthlyCharges', 'TotalCharges']\n",
      "Las columnas del dataframe internet son ['customerID', 'InternetService', 'OnlineSecurity', 'OnlineBackup', 'DeviceProtection', 'TechSupport', 'StreamingTV', 'StreamingMovies']\n",
      "Las columnas del dataframe personal son ['customerID', 'gender', 'SeniorCitizen', 'Partner', 'Dependents']\n",
      "Las columnas del dataframe phone son ['customerID', 'MultipleLines']\n"
     ]
    }
   ],
   "source": [
    "# Escribir el nombre exacto de las columnas\n",
    "for name, df in dfs.items():\n",
    "    print(f'Las columnas del dataframe {name} son {list(df.columns)}')"
   ]
  },
  {
   "cell_type": "code",
   "execution_count": 34,
   "metadata": {},
   "outputs": [],
   "source": [
    "# Modificar el formato del nombre de las columnas\n",
    "dfs['contract'].columns = ['CustomerID', 'BeginDate', 'EndDate', 'Type', \n",
    "                           'PaperlessBilling', 'PaymentMethod', \n",
    "                           'MonthlyCharges', 'TotalCharges']\n",
    "dfs['internet'].columns = ['CustomerID', 'InternetService', 'OnlineSecurity', \n",
    "                           'OnlineBackup', 'DeviceProtection', 'TechSupport', \n",
    "                           'StreamingTV', 'StreamingMovies']\n",
    "dfs['personal'].columns = ['CustomerID', 'Gender', 'SeniorCitizen', 'Partner', \n",
    "                           'Dependents']\n",
    "dfs['phone'].columns = ['CustomerID', 'MultipleLines']"
   ]
  },
  {
   "cell_type": "code",
   "execution_count": 36,
   "metadata": {},
   "outputs": [
    {
     "name": "stdout",
     "output_type": "stream",
     "text": [
      "Las columnas del dataframe contract son ['CustomerID', 'BeginDate', 'EndDate', 'Type', 'PaperlessBilling', 'PaymentMethod', 'MonthlyCharges', 'TotalCharges']\n",
      "Las columnas del dataframe internet son ['CustomerID', 'InternetService', 'OnlineSecurity', 'OnlineBackup', 'DeviceProtection', 'TechSupport', 'StreamingTV', 'StreamingMovies']\n",
      "Las columnas del dataframe personal son ['CustomerID', 'Gender', 'SeniorCitizen', 'Partner', 'Dependents']\n",
      "Las columnas del dataframe phone son ['CustomerID', 'MultipleLines']\n"
     ]
    }
   ],
   "source": [
    "# Comprobar las modificaciones\n",
    "for name, df in dfs.items():\n",
    "    print(f'Las columnas del dataframe {name} son {list(df.columns)}')"
   ]
  },
  {
   "cell_type": "code",
   "execution_count": 60,
   "metadata": {},
   "outputs": [
    {
     "data": {
      "image/png": "[encoded data removed]",
      "text/plain": [
       "<Figure size 1200x400 with 1 Axes>"
      ]
     },
     "metadata": {},
     "output_type": "display_data"
    }
   ],
   "source": [
    "# Graficar la cantidad de registros de cada dataframe\n",
    "fig, ax = plt.subplots(figsize=[12, 4])\n",
    "plt.title('Cantidad de registros de cada Dataframe',\n",
    "          weight='bold', loc='left')\n",
    "bars = plt.bar(dfs.keys(),\n",
    "        [df.shape[0] for df in dfs.values()],\n",
    "        color=juan_colors[0],\n",
    "        zorder=2)\n",
    "for bar in bars:\n",
    "    plt.text(bar.get_x() + bar.get_width() / 2,\n",
    "             bar.get_height() / 2,\n",
    "             f'{bar.get_height()}',\n",
    "             ha='center',\n",
    "             color='white')\n",
    "plt.xlabel('Dataframe')\n",
    "plt.ylabel('Cantidad de registros')\n",
    "plt.grid(axis='y', zorder=1, alpha=0.7)\n",
    "ax.spines[['top', 'right', 'left']].set_visible(False)\n",
    "plt.show()"
   ]
  },
  {
   "cell_type": "markdown",
   "metadata": {},
   "source": [
    "Nos encontramos con 4 archivos Comma-Separated Values (CSV) con la información correspondiente a los usuarios de la compañía Interconnect. Ninguno de los dataframes contiene registros duplicados, ni registros nulos. Cada archivo contiene los siguiente:\n",
    "- El dataframe `contract` contiene la información del contrato de los servicios con una columna de `customerID` que indica un valor único para cada usuario.\n",
    "- El dataframe `internet` contiene los servicios específicos que presta la compañía en internet.\n",
    "    - La columna `InternetService` especifica el tipo de servicio DSL o Fibra Óptica.\n",
    "    - Los otros servicios opcionales que son:\n",
    "        - `OnlineSecurity`: Bloqueador de sitios web maliciosos.\n",
    "        - `OnlineBackup`: Almacenamiento de archivos en la nube.\n",
    "        - `DeviceProtection`: Software antivirus.\n",
    "        - `TechSupport`: Línea de soporte técnico.\n",
    "        - `StreamingTV`: Streaming de TV.\n",
    "        - `StreamingMovies`: Streaming de películas.\n",
    "- El dataframe `personal` contiene los datos personales del cliente.\n",
    "- El dataframe `phone` contiene el servicio de líneas separadas de telefonía fija.\n",
    "\n",
    "La única modificación inicial que se realizó, fue modificar el formato del nombre de las columnas para estandarizarlo, dejando todas con la primera letra mayúscula.\n",
    "\n",
    "Los dataframes `contract` y `personal` contienen la mayor cantidad de registros (7043). El dataframe `internet` contiene 5517 y `phone` 6361."
   ]
  },
  {
   "cell_type": "markdown",
   "metadata": {},
   "source": [
    "# <span style=\"color:#0F19C9\">Dataframe contract</span>\n",
    "\n",
    "Exploraremos el dataframe contract, primero con un análisis univariable, es decir, de cada columna; para luego encontrar relaciones en un análisis multivariable."
   ]
  },
  {
   "cell_type": "markdown",
   "metadata": {},
   "source": [
    "## <span style=\"color:#0F19C9\">Análisis Univariable</span>"
   ]
  },
  {
   "cell_type": "markdown",
   "metadata": {},
   "source": [
    "## <span style=\"color:#0F19C9\">Análisis Multivariable</span>"
   ]
  },
  {
   "cell_type": "markdown",
   "metadata": {},
   "source": [
    "# <span style=\"color:#0F19C9\">Dataframe personal</span>\n",
    "\n",
    "Exploraremos el dataframe personal, primero con un análisis univariable, es decir, de cada columna; para luego encontrar relaciones en un análisis multivariable."
   ]
  },
  {
   "cell_type": "markdown",
   "metadata": {},
   "source": [
    "## <span style=\"color:#0F19C9\">Análisis Univariable</span>"
   ]
  },
  {
   "cell_type": "markdown",
   "metadata": {},
   "source": [
    "## <span style=\"color:#0F19C9\">Análisis Multivariable</span>"
   ]
  },
  {
   "cell_type": "markdown",
   "metadata": {},
   "source": [
    "# <span style=\"color:#0F19C9\">Dataframe internet</span>\n",
    "\n",
    "Exploraremos el dataframe internet, primero con un análisis univariable, es decir, de cada columna; para luego encontrar relaciones en un análisis multivariable."
   ]
  },
  {
   "cell_type": "markdown",
   "metadata": {},
   "source": [
    "## <span style=\"color:#0F19C9\">Análisis Univariable</span>"
   ]
  },
  {
   "cell_type": "markdown",
   "metadata": {},
   "source": [
    "## <span style=\"color:#0F19C9\">Análisis Multivariable</span>"
   ]
  },
  {
   "cell_type": "markdown",
   "metadata": {},
   "source": [
    "# <span style=\"color:#0F19C9\">Dataframe phone</span>\n",
    "\n",
    "Exploraremos el dataframe phone, primero con un análisis univariable, es decir, de cada columna; para luego encontrar relaciones en un análisis multivariable."
   ]
  },
  {
   "cell_type": "markdown",
   "metadata": {},
   "source": [
    "## <span style=\"color:#0F19C9\">Análisis Univariable</span>"
   ]
  },
  {
   "cell_type": "markdown",
   "metadata": {},
   "source": [
    "## <span style=\"color:#0F19C9\">Análisis Multivariable</span>"
   ]
  }
 ],
 "metadata": {
  "kernelspec": {
   "display_name": "base",
   "language": "python",
   "name": "python3"
  },
  "language_info": {
   "codemirror_mode": {
    "name": "ipython",
    "version": 3
   },
   "file_extension": ".py",
   "mimetype": "text/x-python",
   "name": "python",
   "nbconvert_exporter": "python",
   "pygments_lexer": "ipython3",
   "version": "3.11.7"
  }
 },
 "nbformat": 4,
 "nbformat_minor": 2
}
